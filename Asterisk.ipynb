{
 "cells": [
  {
   "cell_type": "code",
   "execution_count": 27,
   "id": "regulated-boards",
   "metadata": {},
   "outputs": [
    {
     "name": "stdout",
     "output_type": "stream",
     "text": [
      "*\n",
      "**\n",
      "***\n",
      "****\n",
      "*****\n"
     ]
    }
   ],
   "source": [
    "for i in range(5):\n",
    "    print(\"*\" * (i+1)) "
   ]
  },
  {
   "cell_type": "code",
   "execution_count": 6,
   "id": "ecological-alfred",
   "metadata": {},
   "outputs": [
    {
     "name": "stdout",
     "output_type": "stream",
     "text": [
      "*****\n",
      "****\n",
      "***\n",
      "**\n",
      "*\n"
     ]
    }
   ],
   "source": [
    "for j in range(5):\n",
    "    print(\"*\" * (5-j))"
   ]
  },
  {
   "cell_type": "code",
   "execution_count": 24,
   "id": "covered-security",
   "metadata": {},
   "outputs": [
    {
     "name": "stdout",
     "output_type": "stream",
     "text": [
      "*****\n",
      " ****\n",
      "  ***\n",
      "   **\n",
      "    *\n"
     ]
    }
   ],
   "source": [
    "for k in range(5):\n",
    "    print(\" \" * (k) + \"*\" * (5-k))"
   ]
  },
  {
   "cell_type": "code",
   "execution_count": 29,
   "id": "statistical-treasurer",
   "metadata": {},
   "outputs": [
    {
     "name": "stdout",
     "output_type": "stream",
     "text": [
      "    *\n",
      "   **\n",
      "  ***\n",
      " ****\n",
      "*****\n"
     ]
    }
   ],
   "source": [
    "for m in range(5):\n",
    "    print(\" \" * (5-m-1) + \"*\" * (m+1))"
   ]
  },
  {
   "cell_type": "code",
   "execution_count": 94,
   "id": "sonic-armenia",
   "metadata": {},
   "outputs": [
    {
     "name": "stdout",
     "output_type": "stream",
     "text": [
      "    *\n",
      "   ***\n",
      "  *****\n",
      " *******\n",
      "*********\n"
     ]
    }
   ],
   "source": [
    "for n in range(5):\n",
    "    print(\" \" * (5-n-1) + \"*\" * (n*2+1))# + \" \" * (n))"
   ]
  },
  {
   "cell_type": "code",
   "execution_count": 109,
   "id": "ranging-infrared",
   "metadata": {},
   "outputs": [
    {
     "name": "stdout",
     "output_type": "stream",
     "text": [
      "    *\n",
      "   ***\n",
      "  *****\n",
      " *******\n",
      "*********\n",
      "*********\n",
      " *******\n",
      "  *****\n",
      "   ***\n",
      "    *\n"
     ]
    }
   ],
   "source": [
    "for p in range(10):\n",
    "    if p <= 4:\n",
    "        print(\" \" * (5-p-1) + \"*\" * (p*2+1))# + \" \" * (p))\n",
    "    else:#56789 -> 97531\n",
    "        print(\" \" * (p-5) + \"*\" * (p*2 + (-1) + (-4) * (p-5)))# + \" \" * (p-5))\n",
    "        #9(5 * 2 - 1 + (-4)*0)\n",
    "        #7(6 * 2 - 1 + (-4)*1)\n",
    "        #5(7 * 2 - 1 + (-4)*2)\n",
    "        #3(8 * 2 - 1 + (-4)*3)\n",
    "        #1(9 * 2 - 1 + (-4)*4)"
   ]
  },
  {
   "cell_type": "code",
   "execution_count": 124,
   "id": "controlled-found",
   "metadata": {
    "scrolled": true
   },
   "outputs": [
    {
     "name": "stdout",
     "output_type": "stream",
     "text": [
      "*********\n",
      " *******\n",
      "  *****\n",
      "   ***\n",
      "    *\n",
      "   ***\n",
      "  *****\n",
      " *******\n",
      "*********\n"
     ]
    }
   ],
   "source": [
    "for r in range(9):\n",
    "    if r <= 4:\n",
    "        print(\" \" * (r) + \"*\" * (10-r + (-1) + (-1) * r))\n",
    "    else:\n",
    "        print(\" \" * (r - 2 * (r-4)) + \"*\" * (r*2-7))\n",
    "        # 3(5 - 2 * 1)\n",
    "        # 2(6 - 2 * 2)\n",
    "        # 1(7 - 2 * 3)\n",
    "        # 0(8 - 2 * 2)\n",
    "        \n",
    "        # 3(5 * 2 - 7)\n",
    "        # 5(6 * 2 - 7)\n",
    "        # 7(7 * 2 - 7)\n",
    "        # 9(8 * 2 - 7)"
   ]
  },
  {
   "cell_type": "code",
   "execution_count": null,
   "id": "atomic-palmer",
   "metadata": {},
   "outputs": [],
   "source": []
  }
 ],
 "metadata": {
  "kernelspec": {
   "display_name": "Python 3",
   "language": "python",
   "name": "python3"
  },
  "language_info": {
   "codemirror_mode": {
    "name": "ipython",
    "version": 3
   },
   "file_extension": ".py",
   "mimetype": "text/x-python",
   "name": "python",
   "nbconvert_exporter": "python",
   "pygments_lexer": "ipython3",
   "version": "3.9.1"
  }
 },
 "nbformat": 4,
 "nbformat_minor": 5
}
